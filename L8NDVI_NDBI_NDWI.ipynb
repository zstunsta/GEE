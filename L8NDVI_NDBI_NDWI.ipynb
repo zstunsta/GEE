{
  "nbformat": 4,
  "nbformat_minor": 0,
  "metadata": {
    "colab": {
      "name": "L8NDVI_NDBI_NDWI.ipynb",
      "provenance": [],
      "authorship_tag": "ABX9TyORb1s0SAZiaIbMA9JXJfhm",
      "include_colab_link": true
    },
    "kernelspec": {
      "name": "python3",
      "display_name": "Python 3"
    },
    "language_info": {
      "name": "python"
    }
  },
  "cells": [
    {
      "cell_type": "markdown",
      "metadata": {
        "id": "view-in-github",
        "colab_type": "text"
      },
      "source": [
        "<a href=\"https://colab.research.google.com/github/zstunsta/odc-colab/blob/master/L8NDVI_NDBI_NDWI.ipynb\" target=\"_parent\"><img src=\"https://colab.research.google.com/assets/colab-badge.svg\" alt=\"Open In Colab\"/></a>"
      ]
    },
    {
      "cell_type": "markdown",
      "metadata": {
        "id": "pszy6gcUmwEn"
      },
      "source": [
        "\n",
        "# Landsat-8 NDVI NDBI NDWI Calculation Using Google Earth Engine and Open Data Cube\n",
        "Ls8 Reference Info: https://www.linkedin.com/pulse/ndvi-ndbi-ndwi-calculation-using-landsat-7-8-tek-bahadur-kshetri/\n",
        "\n",
        "Source Code: https://colab.research.google.com/github/ceos-seo/odc-colab/blob/master/notebooks/01.01.Getting_Started_ODC_and_Colab.ipynb#scrollTo=RGFU03tN4h8k"
      ]
    },
    {
      "cell_type": "code",
      "metadata": {
        "colab": {
          "base_uri": "https://localhost:8080/"
        },
        "id": "oJEdN96LgWs2",
        "outputId": "f1d32b5c-5d68-4fa8-f5f3-5e76b7e5e121"
      },
      "source": [
        "from google.colab import drive\n",
        "drive.mount('/content/drive') "
      ],
      "execution_count": 1,
      "outputs": [
        {
          "output_type": "stream",
          "name": "stdout",
          "text": [
            "Mounted at /content/drive\n"
          ]
        }
      ]
    },
    {
      "cell_type": "code",
      "metadata": {
        "id": "Oon11EUY4h8e",
        "colab": {
          "base_uri": "https://localhost:8080/"
        },
        "outputId": "f421766a-073a-4638-fca6-184514da15ce"
      },
      "source": [
        "!wget -nc https://raw.githubusercontent.com/ceos-seo/odc-colab/master/odc_colab.py\n",
        "from odc_colab import odc_colab_init\n",
        "odc_colab_init(install_odc_gee=True)"
      ],
      "execution_count": 3,
      "outputs": [
        {
          "output_type": "stream",
          "name": "stdout",
          "text": [
            "--2021-10-07 20:48:21--  https://raw.githubusercontent.com/ceos-seo/odc-colab/master/odc_colab.py\n",
            "Resolving raw.githubusercontent.com (raw.githubusercontent.com)... 185.199.108.133, 185.199.109.133, 185.199.110.133, ...\n",
            "Connecting to raw.githubusercontent.com (raw.githubusercontent.com)|185.199.108.133|:443... connected.\n",
            "HTTP request sent, awaiting response... 200 OK\n",
            "Length: 15292 (15K) [text/plain]\n",
            "Saving to: ‘odc_colab.py’\n",
            "\n",
            "odc_colab.py        100%[===================>]  14.93K  --.-KB/s    in 0s      \n",
            "\n",
            "2021-10-07 20:48:22 (110 MB/s) - ‘odc_colab.py’ saved [15292/15292]\n",
            "\n",
            "Module utils was not found; cloning https://github.com/ceos-seo/data_cube_utilities.git to CWD...\n",
            "Package postgresql was not found; installing it...\n",
            "Module odc-gee was not found; cloning https://github.com/ceos-seo/odc-gee.git to CWD...\n"
          ]
        }
      ]
    },
    {
      "cell_type": "code",
      "metadata": {
        "id": "eSkt3mPC4h8f",
        "colab": {
          "base_uri": "https://localhost:8080/"
        },
        "outputId": "5cb79d9e-b249-44ec-b05a-baf517133b1c"
      },
      "source": [
        "from odc_colab import populate_db\n",
        "populate_db()"
      ],
      "execution_count": 74,
      "outputs": [
        {
          "output_type": "stream",
          "name": "stdout",
          "text": [
            "No database file supplied. Downloading default index.\n",
            "Lockfile exists, skipping population.\n"
          ]
        }
      ]
    },
    {
      "cell_type": "code",
      "metadata": {
        "id": "ZZhfbWpYiJoz"
      },
      "source": [
        "# Suppress Warning Messages\n",
        "import warnings\n",
        "warnings.filterwarnings('ignore')\n",
        "\n",
        "# Load Data Cube Configuration\n",
        "from odc_gee import earthengine\n",
        "dc = earthengine.Datacube(app='Getting_Started_loading_data')\n",
        "\n",
        "# Import Data Cube API\n",
        "import utils.data_cube_utilities.data_access_api as dc_api  \n",
        "api = dc_api.DataAccessApi()\n",
        "\n",
        "# Import Utilities\n",
        "import xarray as xr"
      ],
      "execution_count": 73,
      "outputs": []
    },
    {
      "cell_type": "markdown",
      "metadata": {
        "id": "2lwWuhJyxyfl"
      },
      "source": [
        "Within this ODC instance, 'products' refer to satellites (platform), and their instruments. To see what products are available, you can run the following command."
      ]
    },
    {
      "cell_type": "code",
      "metadata": {
        "colab": {
          "base_uri": "https://localhost:8080/",
          "height": 300
        },
        "id": "-QPZQYwnbi68",
        "outputId": "7f613aa6-b600-4eaa-a61d-9555500a3a04"
      },
      "source": [
        "products = dc.list_products()\n",
        "\n",
        "display_columns = [\"name\",\n",
        "                   \"description\",\n",
        "                   \"platform\",\n",
        "                   \"instrument\",\n",
        "                   \"crs\",\n",
        "                   \"resolution\"]\n",
        "\n",
        "products[display_columns].sort_index()"
      ],
      "execution_count": 75,
      "outputs": [
        {
          "output_type": "execute_result",
          "data": {
            "text/html": [
              "<div>\n",
              "<style scoped>\n",
              "    .dataframe tbody tr th:only-of-type {\n",
              "        vertical-align: middle;\n",
              "    }\n",
              "\n",
              "    .dataframe tbody tr th {\n",
              "        vertical-align: top;\n",
              "    }\n",
              "\n",
              "    .dataframe thead th {\n",
              "        text-align: right;\n",
              "    }\n",
              "</style>\n",
              "<table border=\"1\" class=\"dataframe\">\n",
              "  <thead>\n",
              "    <tr style=\"text-align: right;\">\n",
              "      <th></th>\n",
              "      <th>name</th>\n",
              "      <th>description</th>\n",
              "      <th>platform</th>\n",
              "      <th>instrument</th>\n",
              "      <th>crs</th>\n",
              "      <th>resolution</th>\n",
              "    </tr>\n",
              "    <tr>\n",
              "      <th>id</th>\n",
              "      <th></th>\n",
              "      <th></th>\n",
              "      <th></th>\n",
              "      <th></th>\n",
              "      <th></th>\n",
              "      <th></th>\n",
              "    </tr>\n",
              "  </thead>\n",
              "  <tbody>\n",
              "    <tr>\n",
              "      <th>1</th>\n",
              "      <td>ls8_google</td>\n",
              "      <td>&lt;p&gt;This dataset is the atmospherically correct...</td>\n",
              "      <td>LANDSAT_8</td>\n",
              "      <td>OLI/TIRS</td>\n",
              "      <td>EPSG:4326</td>\n",
              "      <td>(-0.000269493352, 0.000269493352)</td>\n",
              "    </tr>\n",
              "    <tr>\n",
              "      <th>2</th>\n",
              "      <td>s1_google</td>\n",
              "      <td>&lt;p&gt;The Sentinel-1 mission provides data from a...</td>\n",
              "      <td>Sentinel-1A</td>\n",
              "      <td>C-SAR</td>\n",
              "      <td>EPSG:4326</td>\n",
              "      <td>(-8.98311175e-05, 8.98311175e-05)</td>\n",
              "    </tr>\n",
              "    <tr>\n",
              "      <th>3</th>\n",
              "      <td>s2_google</td>\n",
              "      <td>&lt;p&gt;Sentinel-2 is a wide-swath, high-resolution...</td>\n",
              "      <td>Sentinel-2A</td>\n",
              "      <td>MSI</td>\n",
              "      <td>EPSG:4326</td>\n",
              "      <td>(-8.98311175e-05, 8.98311175e-05)</td>\n",
              "    </tr>\n",
              "    <tr>\n",
              "      <th>4</th>\n",
              "      <td>ls7_google</td>\n",
              "      <td>&lt;p&gt;This dataset is the atmospherically\\ncorrec...</td>\n",
              "      <td>LANDSAT_7</td>\n",
              "      <td>ETM</td>\n",
              "      <td>EPSG:4326</td>\n",
              "      <td>(-0.000269493352, 0.000269493352)</td>\n",
              "    </tr>\n",
              "    <tr>\n",
              "      <th>5</th>\n",
              "      <td>viirs_google</td>\n",
              "      <td>&lt;p&gt;Monthly average radiance composite images u...</td>\n",
              "      <td>VIIRS</td>\n",
              "      <td>DNB</td>\n",
              "      <td>EPSG:4326</td>\n",
              "      <td>(-0.00416666667, 0.00416666667)</td>\n",
              "    </tr>\n",
              "    <tr>\n",
              "      <th>6</th>\n",
              "      <td>palsar_google</td>\n",
              "      <td>&lt;p&gt;The global 25m PALSAR/PALSAR-2 mosaic is a ...</td>\n",
              "      <td>ALOS</td>\n",
              "      <td>SAR</td>\n",
              "      <td>EPSG:4326</td>\n",
              "      <td>(-0.000224577794, 0.000224577794)</td>\n",
              "    </tr>\n",
              "    <tr>\n",
              "      <th>7</th>\n",
              "      <td>proba_google</td>\n",
              "      <td>&lt;p&gt;The Copernicus Global Land Service (CGLS) i...</td>\n",
              "      <td>PROBA-V</td>\n",
              "      <td>CGLS-LC</td>\n",
              "      <td>EPSG:4326</td>\n",
              "      <td>(-0.000898311175, 0.000898311175)</td>\n",
              "    </tr>\n",
              "  </tbody>\n",
              "</table>\n",
              "</div>"
            ],
            "text/plain": [
              "             name  ...                         resolution\n",
              "id                 ...                                   \n",
              "1      ls8_google  ...  (-0.000269493352, 0.000269493352)\n",
              "2       s1_google  ...  (-8.98311175e-05, 8.98311175e-05)\n",
              "3       s2_google  ...  (-8.98311175e-05, 8.98311175e-05)\n",
              "4      ls7_google  ...  (-0.000269493352, 0.000269493352)\n",
              "5    viirs_google  ...    (-0.00416666667, 0.00416666667)\n",
              "6   palsar_google  ...  (-0.000224577794, 0.000224577794)\n",
              "7    proba_google  ...  (-0.000898311175, 0.000898311175)\n",
              "\n",
              "[7 rows x 6 columns]"
            ]
          },
          "metadata": {},
          "execution_count": 75
        }
      ]
    },
    {
      "cell_type": "code",
      "metadata": {
        "colab": {
          "base_uri": "https://localhost:8080/",
          "height": 457
        },
        "id": "-huNWDZuhcw_",
        "outputId": "2bb15929-8d36-44bc-d33c-2f854bbb7767"
      },
      "source": [
        "# Load Data\n",
        "product = \"ls8_google\"\n",
        "platform = \"LANDSAT_8\"\n",
        "measurements = dc.list_measurements()\n",
        "measurements.loc[product]"
      ],
      "execution_count": 71,
      "outputs": [
        {
          "output_type": "execute_result",
          "data": {
            "text/html": [
              "<div>\n",
              "<style scoped>\n",
              "    .dataframe tbody tr th:only-of-type {\n",
              "        vertical-align: middle;\n",
              "    }\n",
              "\n",
              "    .dataframe tbody tr th {\n",
              "        vertical-align: top;\n",
              "    }\n",
              "\n",
              "    .dataframe thead th {\n",
              "        text-align: right;\n",
              "    }\n",
              "</style>\n",
              "<table border=\"1\" class=\"dataframe\">\n",
              "  <thead>\n",
              "    <tr style=\"text-align: right;\">\n",
              "      <th></th>\n",
              "      <th>name</th>\n",
              "      <th>dtype</th>\n",
              "      <th>units</th>\n",
              "      <th>nodata</th>\n",
              "      <th>aliases</th>\n",
              "      <th>flags_definition</th>\n",
              "    </tr>\n",
              "    <tr>\n",
              "      <th>measurement</th>\n",
              "      <th></th>\n",
              "      <th></th>\n",
              "      <th></th>\n",
              "      <th></th>\n",
              "      <th></th>\n",
              "      <th></th>\n",
              "    </tr>\n",
              "  </thead>\n",
              "  <tbody>\n",
              "    <tr>\n",
              "      <th>B1</th>\n",
              "      <td>B1</td>\n",
              "      <td>int16</td>\n",
              "      <td></td>\n",
              "      <td>-9999.0</td>\n",
              "      <td>[ultra_blue, band_1, b1]</td>\n",
              "      <td>NaN</td>\n",
              "    </tr>\n",
              "    <tr>\n",
              "      <th>B2</th>\n",
              "      <td>B2</td>\n",
              "      <td>int16</td>\n",
              "      <td></td>\n",
              "      <td>-9999.0</td>\n",
              "      <td>[blue, band_2, b2]</td>\n",
              "      <td>NaN</td>\n",
              "    </tr>\n",
              "    <tr>\n",
              "      <th>B3</th>\n",
              "      <td>B3</td>\n",
              "      <td>int16</td>\n",
              "      <td></td>\n",
              "      <td>-9999.0</td>\n",
              "      <td>[green, band_3, b3]</td>\n",
              "      <td>NaN</td>\n",
              "    </tr>\n",
              "    <tr>\n",
              "      <th>B4</th>\n",
              "      <td>B4</td>\n",
              "      <td>int16</td>\n",
              "      <td></td>\n",
              "      <td>-9999.0</td>\n",
              "      <td>[red, band_4, b4]</td>\n",
              "      <td>NaN</td>\n",
              "    </tr>\n",
              "    <tr>\n",
              "      <th>B5</th>\n",
              "      <td>B5</td>\n",
              "      <td>int16</td>\n",
              "      <td></td>\n",
              "      <td>-9999.0</td>\n",
              "      <td>[nir, band_5, b5]</td>\n",
              "      <td>NaN</td>\n",
              "    </tr>\n",
              "    <tr>\n",
              "      <th>B6</th>\n",
              "      <td>B6</td>\n",
              "      <td>int16</td>\n",
              "      <td></td>\n",
              "      <td>-9999.0</td>\n",
              "      <td>[swir1, band_6, b6]</td>\n",
              "      <td>NaN</td>\n",
              "    </tr>\n",
              "    <tr>\n",
              "      <th>B7</th>\n",
              "      <td>B7</td>\n",
              "      <td>int16</td>\n",
              "      <td></td>\n",
              "      <td>-9999.0</td>\n",
              "      <td>[swir2, band_7, b7]</td>\n",
              "      <td>NaN</td>\n",
              "    </tr>\n",
              "    <tr>\n",
              "      <th>B10</th>\n",
              "      <td>B10</td>\n",
              "      <td>int16</td>\n",
              "      <td>Kelvin</td>\n",
              "      <td>-9999.0</td>\n",
              "      <td>[tirs1, band_10_brightness_temperature, b10]</td>\n",
              "      <td>NaN</td>\n",
              "    </tr>\n",
              "    <tr>\n",
              "      <th>B11</th>\n",
              "      <td>B11</td>\n",
              "      <td>int16</td>\n",
              "      <td>Kelvin</td>\n",
              "      <td>-9999.0</td>\n",
              "      <td>[tirs2, band_11_brightness_temperature, b11]</td>\n",
              "      <td>NaN</td>\n",
              "    </tr>\n",
              "    <tr>\n",
              "      <th>sr_aerosol</th>\n",
              "      <td>sr_aerosol</td>\n",
              "      <td>uint8</td>\n",
              "      <td></td>\n",
              "      <td>0.0</td>\n",
              "      <td>[aerosol_attributes, sr_aerosol]</td>\n",
              "      <td>{'fill': {'bits': [0], 'values': {}, 'desctipt...</td>\n",
              "    </tr>\n",
              "    <tr>\n",
              "      <th>pixel_qa</th>\n",
              "      <td>pixel_qa</td>\n",
              "      <td>uint16</td>\n",
              "      <td></td>\n",
              "      <td>0.0</td>\n",
              "      <td>[pixel_quality_attributes_generated_from_the_c...</td>\n",
              "      <td>{'fill': {'bits': [0], 'values': {}, 'desctipt...</td>\n",
              "    </tr>\n",
              "    <tr>\n",
              "      <th>radsat_qa</th>\n",
              "      <td>radsat_qa</td>\n",
              "      <td>uint16</td>\n",
              "      <td></td>\n",
              "      <td>0.0</td>\n",
              "      <td>[radiometric_saturation_qa, radsat_qa]</td>\n",
              "      <td>{'unused': {'bits': [8], 'values': {}, 'descti...</td>\n",
              "    </tr>\n",
              "  </tbody>\n",
              "</table>\n",
              "</div>"
            ],
            "text/plain": [
              "                   name  ...                                   flags_definition\n",
              "measurement              ...                                                   \n",
              "B1                   B1  ...                                                NaN\n",
              "B2                   B2  ...                                                NaN\n",
              "B3                   B3  ...                                                NaN\n",
              "B4                   B4  ...                                                NaN\n",
              "B5                   B5  ...                                                NaN\n",
              "B6                   B6  ...                                                NaN\n",
              "B7                   B7  ...                                                NaN\n",
              "B10                 B10  ...                                                NaN\n",
              "B11                 B11  ...                                                NaN\n",
              "sr_aerosol   sr_aerosol  ...  {'fill': {'bits': [0], 'values': {}, 'desctipt...\n",
              "pixel_qa       pixel_qa  ...  {'fill': {'bits': [0], 'values': {}, 'desctipt...\n",
              "radsat_qa     radsat_qa  ...  {'unused': {'bits': [8], 'values': {}, 'descti...\n",
              "\n",
              "[12 rows x 6 columns]"
            ]
          },
          "metadata": {},
          "execution_count": 71
        }
      ]
    },
    {
      "cell_type": "code",
      "metadata": {
        "id": "qKe3hvf1i5fz"
      },
      "source": [
        "from utils.data_cube_utilities.dc_display_map import display_map\n",
        "# Load the plotting utility\n",
        "from utils.data_cube_utilities.dc_rgb import rgb\n",
        "import matplotlib.pyplot as plt"
      ],
      "execution_count": 52,
      "outputs": []
    },
    {
      "cell_type": "code",
      "metadata": {
        "colab": {
          "base_uri": "https://localhost:8080/"
        },
        "id": "ZhPs1dSOieRW",
        "outputId": "e893a338-7c1b-4f8b-9f91-18f099049dcc"
      },
      "source": [
        "\n",
        "# Define Time Range - Select a time period within the extents of the dataset (Year-Month-Day)\n",
        "# Landsat-8 time range: 07-Apr-2013 to current\n",
        "time_extents = ('2020-01-01', '2020-12-31')\n",
        "\n",
        "# Specify box centre and box size in degrees.\n",
        "# Vicuña, Chile\n",
        "lat_long = (-30, -70.75)\n",
        "box_size_deg = 0.25\n",
        "\n",
        "# La Serena, Chile\n",
        "#lat_long = (-29.90, -71.20)\n",
        "#box_size_deg = 0.25\n",
        "\n",
        "latitude = (lat_long[0]-box_size_deg/2, lat_long[0]+box_size_deg/2)\n",
        "longitude = (lat_long[1]-box_size_deg/2, lat_long[1]+box_size_deg/2)\n",
        "print(measurements)\n",
        "\n",
        "#display_map(latitude,longitude)"
      ],
      "execution_count": 72,
      "outputs": [
        {
          "output_type": "stream",
          "name": "stdout",
          "text": [
            "                             name  ...                                   flags_definition\n",
            "product      measurement           ...                                                   \n",
            "ls7_google   B1                B1  ...                                                NaN\n",
            "             B2                B2  ...                                                NaN\n",
            "             B3                B3  ...                                                NaN\n",
            "             B4                B4  ...                                                NaN\n",
            "             B5                B5  ...                                                NaN\n",
            "...                           ...  ...                                                ...\n",
            "s2_google    TCI_G          TCI_G  ...                                                NaN\n",
            "             TCI_B          TCI_B  ...                                                NaN\n",
            "             QA60            QA60  ...  {'cirrus_clouds': {'bits': [11], 'values': {'0...\n",
            "viirs_google avg_rad      avg_rad  ...                                                NaN\n",
            "             cf_cvg        cf_cvg  ...                                                NaN\n",
            "\n",
            "[66 rows x 6 columns]\n"
          ]
        }
      ]
    },
    {
      "cell_type": "code",
      "metadata": {
        "colab": {
          "base_uri": "https://localhost:8080/"
        },
        "id": "sSUTb6qEorjS",
        "outputId": "0cbb44a1-4fce-497e-d445-913a14c6ee7d"
      },
      "source": [
        "print(time_extents)\n",
        "print(dc)"
      ],
      "execution_count": 64,
      "outputs": [
        {
          "output_type": "stream",
          "name": "stdout",
          "text": [
            "('2020-01-01', '2020-12-31')\n",
            "Datacube<index=Index<db=PostgresDb<engine=Engine(postgresql://root@:5432/datacube)>>>\n"
          ]
        }
      ]
    },
    {
      "cell_type": "code",
      "metadata": {
        "colab": {
          "base_uri": "https://localhost:8080/"
        },
        "id": "hqT-xTXidv_s",
        "outputId": "d6d19918-05e8-4edb-9a18-e5eca3b844ed"
      },
      "source": [
        "# Load data\n",
        "ds = dc.load(product=product,\n",
        "             x=latitude,\n",
        "             y=longitude,\n",
        "             time=time_extents,\n",
        "             measurements=['red', 'green', 'blue', 'nir', 'swir1', 'swir2'])\n",
        "\n",
        "print(ds)"
      ],
      "execution_count": 67,
      "outputs": [
        {
          "output_type": "stream",
          "name": "stdout",
          "text": [
            "<xarray.Dataset>\n",
            "Dimensions:  ()\n",
            "Data variables:\n",
            "    *empty*\n"
          ]
        }
      ]
    },
    {
      "cell_type": "code",
      "metadata": {
        "colab": {
          "base_uri": "https://localhost:8080/",
          "height": 380
        },
        "id": "loVA-Q5vl8NG",
        "outputId": "d83b0538-41f4-476c-e600-0efd8b442c6b"
      },
      "source": [
        "# Select one of the time slices and create an output image. \n",
        "# Clouds will be visible in WHITE for an output image\n",
        "\n",
        "slice = 10  # select the time slice number here\n",
        "\n",
        "# Select the output image bands\n",
        "# Users can create other combinations of bands (loaded above), as desired\n",
        "# True-Color = red, green, blue (this is the common true-color RGB image)\n",
        "# False Color = swir2, nir, green (this is commonly used for Landsat data viewing)\n",
        "\n",
        "true_rgb = ds.isel(time=slice)[['red', 'green', 'blue']].to_array()\n",
        "false_rgb = ds.isel(time=slice)[['swir2', 'nir', 'green']].to_array()\n",
        "\n",
        "# Define the plot settings and show the plots\n",
        "# Users may want to alter the figure sizes or plot titles\n",
        "# The \"vmax\" value controls the brightness of the images and can be adjusted \n",
        "\n",
        "fig, ax = plt.subplots(1, 2, figsize=(16, 8))\n",
        "true_rgb.plot.imshow(ax=ax[0], vmin=0, vmax=3000)\n",
        "false_rgb.plot.imshow(ax=ax[1], vmin=0, vmax=5000)\n",
        "ax[0].set_title('True Color'), ax[0].xaxis.set_visible(False), ax[0].yaxis.set_visible(False)\n",
        "ax[1].set_title('False Color'), ax[1].xaxis.set_visible(False), ax[1].yaxis.set_visible(False)\n",
        "plt.show()"
      ],
      "execution_count": 60,
      "outputs": [
        {
          "output_type": "error",
          "ename": "ValueError",
          "evalue": "ignored",
          "traceback": [
            "\u001b[0;31m---------------------------------------------------------------------------\u001b[0m",
            "\u001b[0;31mValueError\u001b[0m                                Traceback (most recent call last)",
            "\u001b[0;32m<ipython-input-60-47a679fd1ca9>\u001b[0m in \u001b[0;36m<module>\u001b[0;34m()\u001b[0m\n\u001b[1;32m      9\u001b[0m \u001b[0;31m# False Color = swir2, nir, green (this is commonly used for Landsat data viewing)\u001b[0m\u001b[0;34m\u001b[0m\u001b[0;34m\u001b[0m\u001b[0;34m\u001b[0m\u001b[0m\n\u001b[1;32m     10\u001b[0m \u001b[0;34m\u001b[0m\u001b[0m\n\u001b[0;32m---> 11\u001b[0;31m \u001b[0mtrue_rgb\u001b[0m \u001b[0;34m=\u001b[0m \u001b[0mds\u001b[0m\u001b[0;34m.\u001b[0m\u001b[0misel\u001b[0m\u001b[0;34m(\u001b[0m\u001b[0mtime\u001b[0m\u001b[0;34m=\u001b[0m\u001b[0mslice\u001b[0m\u001b[0;34m)\u001b[0m\u001b[0;34m[\u001b[0m\u001b[0;34m[\u001b[0m\u001b[0;34m'red'\u001b[0m\u001b[0;34m,\u001b[0m \u001b[0;34m'green'\u001b[0m\u001b[0;34m,\u001b[0m \u001b[0;34m'blue'\u001b[0m\u001b[0;34m]\u001b[0m\u001b[0;34m]\u001b[0m\u001b[0;34m.\u001b[0m\u001b[0mto_array\u001b[0m\u001b[0;34m(\u001b[0m\u001b[0;34m)\u001b[0m\u001b[0;34m\u001b[0m\u001b[0;34m\u001b[0m\u001b[0m\n\u001b[0m\u001b[1;32m     12\u001b[0m \u001b[0mfalse_rgb\u001b[0m \u001b[0;34m=\u001b[0m \u001b[0mds\u001b[0m\u001b[0;34m.\u001b[0m\u001b[0misel\u001b[0m\u001b[0;34m(\u001b[0m\u001b[0mtime\u001b[0m\u001b[0;34m=\u001b[0m\u001b[0mslice\u001b[0m\u001b[0;34m)\u001b[0m\u001b[0;34m[\u001b[0m\u001b[0;34m[\u001b[0m\u001b[0;34m'swir2'\u001b[0m\u001b[0;34m,\u001b[0m \u001b[0;34m'nir'\u001b[0m\u001b[0;34m,\u001b[0m \u001b[0;34m'green'\u001b[0m\u001b[0;34m]\u001b[0m\u001b[0;34m]\u001b[0m\u001b[0;34m.\u001b[0m\u001b[0mto_array\u001b[0m\u001b[0;34m(\u001b[0m\u001b[0;34m)\u001b[0m\u001b[0;34m\u001b[0m\u001b[0;34m\u001b[0m\u001b[0m\n\u001b[1;32m     13\u001b[0m \u001b[0;34m\u001b[0m\u001b[0m\n",
            "\u001b[0;32m/usr/local/lib/python3.7/dist-packages/xarray/core/dataset.py\u001b[0m in \u001b[0;36misel\u001b[0;34m(self, indexers, drop, missing_dims, **indexers_kwargs)\u001b[0m\n\u001b[1;32m   2327\u001b[0m         \u001b[0;31m# Much faster algorithm for when all indexers are ints, slices, one-dimensional\u001b[0m\u001b[0;34m\u001b[0m\u001b[0;34m\u001b[0m\u001b[0;34m\u001b[0m\u001b[0m\n\u001b[1;32m   2328\u001b[0m         \u001b[0;31m# lists, or zero or one-dimensional np.ndarray's\u001b[0m\u001b[0;34m\u001b[0m\u001b[0;34m\u001b[0m\u001b[0;34m\u001b[0m\u001b[0m\n\u001b[0;32m-> 2329\u001b[0;31m         \u001b[0mindexers\u001b[0m \u001b[0;34m=\u001b[0m \u001b[0mdrop_dims_from_indexers\u001b[0m\u001b[0;34m(\u001b[0m\u001b[0mindexers\u001b[0m\u001b[0;34m,\u001b[0m \u001b[0mself\u001b[0m\u001b[0;34m.\u001b[0m\u001b[0mdims\u001b[0m\u001b[0;34m,\u001b[0m \u001b[0mmissing_dims\u001b[0m\u001b[0;34m)\u001b[0m\u001b[0;34m\u001b[0m\u001b[0;34m\u001b[0m\u001b[0m\n\u001b[0m\u001b[1;32m   2330\u001b[0m \u001b[0;34m\u001b[0m\u001b[0m\n\u001b[1;32m   2331\u001b[0m         \u001b[0mvariables\u001b[0m \u001b[0;34m=\u001b[0m \u001b[0;34m{\u001b[0m\u001b[0;34m}\u001b[0m\u001b[0;34m\u001b[0m\u001b[0;34m\u001b[0m\u001b[0m\n",
            "\u001b[0;32m/usr/local/lib/python3.7/dist-packages/xarray/core/utils.py\u001b[0m in \u001b[0;36mdrop_dims_from_indexers\u001b[0;34m(indexers, dims, missing_dims)\u001b[0m\n\u001b[1;32m    835\u001b[0m         \u001b[0;32mif\u001b[0m \u001b[0minvalid\u001b[0m\u001b[0;34m:\u001b[0m\u001b[0;34m\u001b[0m\u001b[0;34m\u001b[0m\u001b[0m\n\u001b[1;32m    836\u001b[0m             raise ValueError(\n\u001b[0;32m--> 837\u001b[0;31m                 \u001b[0;34mf\"Dimensions {invalid} do not exist. Expected one or more of {dims}\"\u001b[0m\u001b[0;34m\u001b[0m\u001b[0;34m\u001b[0m\u001b[0m\n\u001b[0m\u001b[1;32m    838\u001b[0m             )\n\u001b[1;32m    839\u001b[0m \u001b[0;34m\u001b[0m\u001b[0m\n",
            "\u001b[0;31mValueError\u001b[0m: Dimensions {'time'} do not exist. Expected one or more of Frozen({})"
          ]
        }
      ]
    }
  ]
}