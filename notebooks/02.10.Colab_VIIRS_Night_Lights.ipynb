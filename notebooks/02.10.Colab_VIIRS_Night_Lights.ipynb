{
  "nbformat": 4,
  "nbformat_minor": 0,
  "metadata": {
    "colab": {
      "name": "02.10.Colab_VIIRS_Night_Lights.ipynb",
      "provenance": [],
      "collapsed_sections": []
    },
    "kernelspec": {
      "display_name": "Python 3",
      "language": "python",
      "name": "python3"
    },
    "language_info": {
      "codemirror_mode": {
        "name": "ipython",
        "version": 3
      },
      "file_extension": ".py",
      "mimetype": "text/x-python",
      "name": "python",
      "nbconvert_exporter": "python",
      "pygments_lexer": "ipython3",
      "version": "3.6.8"
    }
  },
  "cells": [
    {
      "cell_type": "markdown",
      "metadata": {
        "id": "wpCW_7u5TVaY"
      },
      "source": [
        "<a href=\"https://colab.research.google.com/github/ceos-seo/odc-colab/blob/master/notebooks/02.10.Colab_VIIRS_Night_Lights.ipynb\" target=\"_parent\"><img src=\"https://colab.research.google.com/assets/colab-badge.svg\" alt=\"Open In Colab\"/></a>"
      ]
    },
    {
      "cell_type": "markdown",
      "metadata": {
        "id": "lYnlzHvo4h8d"
      },
      "source": [
        "Downloads the odc-colab Python module and runs it to setup ODC."
      ]
    },
    {
      "cell_type": "code",
      "metadata": {
        "id": "3x-xv1yPRW6Y",
        "outputId": "feb3d520-e1c8-4c99-bbd6-e325ca203c3e",
        "colab": {
          "base_uri": "https://localhost:8080/"
        }
      },
      "source": [
        "!wget -nc https://raw.githubusercontent.com/ceos-seo/odc-colab/master/odc_colab.py\n",
        "from odc_colab import odc_colab_init\n",
        "odc_colab_init(install_odc_gee=True)"
      ],
      "execution_count": 15,
      "outputs": [
        {
          "output_type": "stream",
          "name": "stdout",
          "text": [
            "File ‘odc_colab.py’ already there; not retrieving.\n",
            "\n"
          ]
        }
      ]
    },
    {
      "cell_type": "markdown",
      "metadata": {
        "id": "m0Gr6cUJRcmV"
      },
      "source": [
        "Downloads an existing index and populates the new ODC environment with it."
      ]
    },
    {
      "cell_type": "code",
      "metadata": {
        "id": "J9yJjEFqRfey",
        "outputId": "a086e8db-7fff-4205-cbfa-11b4f6a46312",
        "colab": {
          "base_uri": "https://localhost:8080/"
        }
      },
      "source": [
        "from odc_colab import populate_db\n",
        "populate_db()"
      ],
      "execution_count": 16,
      "outputs": [
        {
          "output_type": "stream",
          "name": "stdout",
          "text": [
            "No database file supplied. Downloading default index.\n",
            "Lockfile exists, skipping population.\n"
          ]
        }
      ]
    },
    {
      "cell_type": "markdown",
      "metadata": {
        "id": "eZAtf8bFPUSQ"
      },
      "source": [
        "# Nightlight Radiance from VIIRS\n",
        "\n",
        "This notebook demonstrates nightlight radiance measurements from VIIRS. These measurements can be used to study urban growth and loss of power from storms. The data is available as monthly mean radiance from April-2012 through December-2020 at a resolution of 15 arc-seconds (approximately 500 meters). More information about this dataset can be found [HERE](https://developers.google.com/earth-engine/datasets/catalog/NOAA_VIIRS_DNB_MONTHLY_V1_VCMCFG)."
      ]
    },
    {
      "cell_type": "markdown",
      "metadata": {
        "id": "Sipd3CeyPUSS"
      },
      "source": [
        "## Load Data Cube Configuration and Import Utilities"
      ]
    },
    {
      "cell_type": "code",
      "metadata": {
        "id": "ADxwk-NFPUST"
      },
      "source": [
        "# Load Data Cube Configuration\n",
        "from odc_gee import earthengine\n",
        "dc = earthengine.Datacube(app='Nightlights')\n",
        "\n",
        "# Import Utilities\n",
        "import matplotlib.pyplot as plt\n",
        "import pandas as pd\n",
        "import sys"
      ],
      "execution_count": 17,
      "outputs": []
    },
    {
      "cell_type": "code",
      "metadata": {
        "colab": {
          "base_uri": "https://localhost:8080/",
          "height": 238
        },
        "id": "ey2hRTk7SiYa",
        "outputId": "bd309314-f245-4423-9f68-a897b293712b"
      },
      "source": [
        "products = dc.list_products()\n",
        "\n",
        "display_columns = [\"name\",\n",
        "                   \"description\",\n",
        "                   \"platform\",\n",
        "                   \"instrument\",\n",
        "                   \"crs\",\n",
        "                   \"resolution\"]\n",
        "\n",
        "products[display_columns].sort_index()"
      ],
      "execution_count": 4,
      "outputs": [
        {
          "output_type": "execute_result",
          "data": {
            "text/html": [
              "<div>\n",
              "<style scoped>\n",
              "    .dataframe tbody tr th:only-of-type {\n",
              "        vertical-align: middle;\n",
              "    }\n",
              "\n",
              "    .dataframe tbody tr th {\n",
              "        vertical-align: top;\n",
              "    }\n",
              "\n",
              "    .dataframe thead th {\n",
              "        text-align: right;\n",
              "    }\n",
              "</style>\n",
              "<table border=\"1\" class=\"dataframe\">\n",
              "  <thead>\n",
              "    <tr style=\"text-align: right;\">\n",
              "      <th></th>\n",
              "      <th>name</th>\n",
              "      <th>description</th>\n",
              "      <th>platform</th>\n",
              "      <th>instrument</th>\n",
              "      <th>crs</th>\n",
              "      <th>resolution</th>\n",
              "    </tr>\n",
              "    <tr>\n",
              "      <th>id</th>\n",
              "      <th></th>\n",
              "      <th></th>\n",
              "      <th></th>\n",
              "      <th></th>\n",
              "      <th></th>\n",
              "      <th></th>\n",
              "    </tr>\n",
              "  </thead>\n",
              "  <tbody>\n",
              "    <tr>\n",
              "      <th>1</th>\n",
              "      <td>ls8_google</td>\n",
              "      <td>&lt;p&gt;This dataset is the atmospherically correct...</td>\n",
              "      <td>LANDSAT_8</td>\n",
              "      <td>OLI/TIRS</td>\n",
              "      <td>EPSG:4326</td>\n",
              "      <td>(-0.000269493352, 0.000269493352)</td>\n",
              "    </tr>\n",
              "    <tr>\n",
              "      <th>2</th>\n",
              "      <td>s1_google</td>\n",
              "      <td>&lt;p&gt;The Sentinel-1 mission provides data from a...</td>\n",
              "      <td>Sentinel-1A</td>\n",
              "      <td>C-SAR</td>\n",
              "      <td>EPSG:4326</td>\n",
              "      <td>(-8.98311175e-05, 8.98311175e-05)</td>\n",
              "    </tr>\n",
              "    <tr>\n",
              "      <th>3</th>\n",
              "      <td>s2_google</td>\n",
              "      <td>&lt;p&gt;Sentinel-2 is a wide-swath, high-resolution...</td>\n",
              "      <td>Sentinel-2A</td>\n",
              "      <td>MSI</td>\n",
              "      <td>EPSG:4326</td>\n",
              "      <td>(-8.98311175e-05, 8.98311175e-05)</td>\n",
              "    </tr>\n",
              "    <tr>\n",
              "      <th>4</th>\n",
              "      <td>ls7_google</td>\n",
              "      <td>&lt;p&gt;This dataset is the atmospherically\\ncorrec...</td>\n",
              "      <td>LANDSAT_7</td>\n",
              "      <td>ETM</td>\n",
              "      <td>EPSG:4326</td>\n",
              "      <td>(-0.000269493352, 0.000269493352)</td>\n",
              "    </tr>\n",
              "    <tr>\n",
              "      <th>5</th>\n",
              "      <td>viirs_google</td>\n",
              "      <td>&lt;p&gt;Monthly average radiance composite images u...</td>\n",
              "      <td>VIIRS</td>\n",
              "      <td>DNB</td>\n",
              "      <td>EPSG:4326</td>\n",
              "      <td>(-0.00416666667, 0.00416666667)</td>\n",
              "    </tr>\n",
              "  </tbody>\n",
              "</table>\n",
              "</div>"
            ],
            "text/plain": [
              "            name  ...                         resolution\n",
              "id                ...                                   \n",
              "1     ls8_google  ...  (-0.000269493352, 0.000269493352)\n",
              "2      s1_google  ...  (-8.98311175e-05, 8.98311175e-05)\n",
              "3      s2_google  ...  (-8.98311175e-05, 8.98311175e-05)\n",
              "4     ls7_google  ...  (-0.000269493352, 0.000269493352)\n",
              "5   viirs_google  ...    (-0.00416666667, 0.00416666667)\n",
              "\n",
              "[5 rows x 6 columns]"
            ]
          },
          "metadata": {},
          "execution_count": 4
        }
      ]
    },
    {
      "cell_type": "code",
      "metadata": {
        "id": "QhePIWufPUST"
      },
      "source": [
        "# Select the Product\n",
        "product = 'viirs_google'"
      ],
      "execution_count": 18,
      "outputs": []
    },
    {
      "cell_type": "markdown",
      "metadata": {
        "id": "d68NOSpJPUSU"
      },
      "source": [
        "## <span id=\"define_extents\">Define the Extents of the Analysis [&#9652;](#top)</span>"
      ]
    },
    {
      "cell_type": "code",
      "metadata": {
        "id": "0ZURwjAhPUSU"
      },
      "source": [
        "# MODIFY HERE\n",
        "\n",
        "# Select the center of an analysis region (lat_long) \n",
        "# Adjust the surrounding box size (box_size) around the center (in degrees)\n",
        "# Remove the comment tags (#) below to change the sample location\n",
        "\n",
        "# Boone, NC\n",
        "lat_long = (36.21, -81.67)\n",
        "box_size_deg = 0.25\n",
        "\n",
        "# Kumasi, Ghana, Africa\n",
        "#lat_long = (6.69, -1.63)\n",
        "#box_size_deg = 0.75\n",
        "\n",
        "# Calculate the latitude and longitude bounds of the analysis box\n",
        "latitude = (lat_long[0]-box_size_deg/2, lat_long[0]+box_size_deg/2)\n",
        "longitude = (lat_long[1]-box_size_deg/2, lat_long[1]+box_size_deg/2)\n",
        "\n",
        "# Define time window (START, END)\n",
        "# Time format is (YEAR-MM)\n",
        "# Range of data is 2012-04 to 2020-12\n",
        "time = ('2012-04', '2020-12')"
      ],
      "execution_count": 23,
      "outputs": []
    },
    {
      "cell_type": "code",
      "metadata": {
        "colab": {
          "base_uri": "https://localhost:8080/",
          "height": 866
        },
        "id": "ilu4P2wnPUSU",
        "outputId": "d957e388-d8ff-415e-878c-783a4fba42ad"
      },
      "source": [
        "# The code below renders a map that can be used to view the region.\n",
        "from utils.data_cube_utilities.dc_display_map import display_map\n",
        "display_map(latitude,longitude)"
      ],
      "execution_count": 24,
      "outputs": [
        {
          "output_type": "execute_result",
          "data": {
            "text/html": [
              "<div style=\"width:100%;\"><div style=\"position:relative;width:100%;height:0;padding-bottom:60%;\"><span style=\"color:#565656\">Make this Notebook Trusted to load map: File -> Trust Notebook</span><iframe src=\"about:blank\" style=\"position:absolute;width:100%;height:100%;left:0;top:0;border:none !important;\" data-html=%3C%21DOCTYPE%20html%3E%0A%3Chead%3E%20%20%20%20%0A%20%20%20%20%3Cmeta%20http-equiv%3D%22content-type%22%20content%3D%22text/html%3B%20charset%3DUTF-8%22%20/%3E%0A%20%20%20%20%3Cscript%3EL_PREFER_CANVAS%3Dfalse%3B%20L_NO_TOUCH%3Dfalse%3B%20L_DISABLE_3D%3Dfalse%3B%3C/script%3E%0A%20%20%20%20%3Cscript%20src%3D%22https%3A//cdn.jsdelivr.net/npm/leaflet%401.4.0/dist/leaflet.js%22%3E%3C/script%3E%0A%20%20%20%20%3Cscript%20src%3D%22https%3A//code.jquery.com/jquery-1.12.4.min.js%22%3E%3C/script%3E%0A%20%20%20%20%3Cscript%20src%3D%22https%3A//maxcdn.bootstrapcdn.com/bootstrap/3.2.0/js/bootstrap.min.js%22%3E%3C/script%3E%0A%20%20%20%20%3Cscript%20src%3D%22https%3A//cdnjs.cloudflare.com/ajax/libs/Leaflet.awesome-markers/2.0.2/leaflet.awesome-markers.js%22%3E%3C/script%3E%0A%20%20%20%20%3Clink%20rel%3D%22stylesheet%22%20href%3D%22https%3A//cdn.jsdelivr.net/npm/leaflet%401.4.0/dist/leaflet.css%22/%3E%0A%20%20%20%20%3Clink%20rel%3D%22stylesheet%22%20href%3D%22https%3A//maxcdn.bootstrapcdn.com/bootstrap/3.2.0/css/bootstrap.min.css%22/%3E%0A%20%20%20%20%3Clink%20rel%3D%22stylesheet%22%20href%3D%22https%3A//maxcdn.bootstrapcdn.com/bootstrap/3.2.0/css/bootstrap-theme.min.css%22/%3E%0A%20%20%20%20%3Clink%20rel%3D%22stylesheet%22%20href%3D%22https%3A//maxcdn.bootstrapcdn.com/font-awesome/4.6.3/css/font-awesome.min.css%22/%3E%0A%20%20%20%20%3Clink%20rel%3D%22stylesheet%22%20href%3D%22https%3A//cdnjs.cloudflare.com/ajax/libs/Leaflet.awesome-markers/2.0.2/leaflet.awesome-markers.css%22/%3E%0A%20%20%20%20%3Clink%20rel%3D%22stylesheet%22%20href%3D%22https%3A//rawcdn.githack.com/python-visualization/folium/master/folium/templates/leaflet.awesome.rotate.css%22/%3E%0A%20%20%20%20%3Cstyle%3Ehtml%2C%20body%20%7Bwidth%3A%20100%25%3Bheight%3A%20100%25%3Bmargin%3A%200%3Bpadding%3A%200%3B%7D%3C/style%3E%0A%20%20%20%20%3Cstyle%3E%23map%20%7Bposition%3Aabsolute%3Btop%3A0%3Bbottom%3A0%3Bright%3A0%3Bleft%3A0%3B%7D%3C/style%3E%0A%20%20%20%20%0A%20%20%20%20%3Cmeta%20name%3D%22viewport%22%20content%3D%22width%3Ddevice-width%2C%0A%20%20%20%20%20%20%20%20initial-scale%3D1.0%2C%20maximum-scale%3D1.0%2C%20user-scalable%3Dno%22%20/%3E%0A%20%20%20%20%3Cstyle%3E%23map_4135e048884b40abb851f0a2fd1f49a9%20%7B%0A%20%20%20%20%20%20%20%20position%3A%20relative%3B%0A%20%20%20%20%20%20%20%20width%3A%20100.0%25%3B%0A%20%20%20%20%20%20%20%20height%3A%20100.0%25%3B%0A%20%20%20%20%20%20%20%20left%3A%200.0%25%3B%0A%20%20%20%20%20%20%20%20top%3A%200.0%25%3B%0A%20%20%20%20%20%20%20%20%7D%0A%20%20%20%20%3C/style%3E%0A%3C/head%3E%0A%3Cbody%3E%20%20%20%20%0A%20%20%20%20%0A%20%20%20%20%3Cdiv%20class%3D%22folium-map%22%20id%3D%22map_4135e048884b40abb851f0a2fd1f49a9%22%20%3E%3C/div%3E%0A%3C/body%3E%0A%3Cscript%3E%20%20%20%20%0A%20%20%20%20%0A%20%20%20%20%0A%20%20%20%20%20%20%20%20var%20bounds%20%3D%20null%3B%0A%20%20%20%20%0A%0A%20%20%20%20var%20map_4135e048884b40abb851f0a2fd1f49a9%20%3D%20L.map%28%0A%20%20%20%20%20%20%20%20%27map_4135e048884b40abb851f0a2fd1f49a9%27%2C%20%7B%0A%20%20%20%20%20%20%20%20center%3A%20%5B36.21%2C%20-81.67%5D%2C%0A%20%20%20%20%20%20%20%20zoom%3A%2011%2C%0A%20%20%20%20%20%20%20%20maxBounds%3A%20bounds%2C%0A%20%20%20%20%20%20%20%20layers%3A%20%5B%5D%2C%0A%20%20%20%20%20%20%20%20worldCopyJump%3A%20false%2C%0A%20%20%20%20%20%20%20%20crs%3A%20L.CRS.EPSG3857%2C%0A%20%20%20%20%20%20%20%20zoomControl%3A%20true%2C%0A%20%20%20%20%20%20%20%20%7D%29%3B%0A%0A%0A%20%20%20%20%0A%20%20%20%20%0A%20%20%20%20%20%20%20%20%20%20%20%20var%20feature_group_d1c25d9d22944b149114b2bbf4c97d6d%20%3D%20L.featureGroup%28%0A%20%20%20%20%20%20%20%20%20%20%20%20%20%20%20%20%29.addTo%28map_4135e048884b40abb851f0a2fd1f49a9%29%3B%0A%20%20%20%20%20%20%20%20%0A%20%20%20%20var%20tile_layer_e8991c57ff174f5dbe39ec087fba5f9d%20%3D%20L.tileLayer%28%0A%20%20%20%20%20%20%20%20%27https%3A//server.arcgisonline.com/ArcGIS/rest/services/World_Imagery/MapServer/tile/%7Bz%7D/%7By%7D/%7Bx%7D%27%2C%0A%20%20%20%20%20%20%20%20%7B%0A%20%20%20%20%20%20%20%20%22attribution%22%3A%20%22Tiles%20%26copy%3B%20Esri%20%26mdash%3B%20Source%3A%20Esri%2C%20i-cubed%2C%20USDA%2C%20USGS%2C%20AEX%2C%20GeoEye%2C%20Getmapping%2C%20Aerogrid%2C%20IGN%2C%20IGP%2C%20UPR-EGP%2C%20and%20the%20GIS%20User%20Community%22%2C%0A%20%20%20%20%20%20%20%20%22detectRetina%22%3A%20false%2C%0A%20%20%20%20%20%20%20%20%22maxNativeZoom%22%3A%2018%2C%0A%20%20%20%20%20%20%20%20%22maxZoom%22%3A%2018%2C%0A%20%20%20%20%20%20%20%20%22minZoom%22%3A%200%2C%0A%20%20%20%20%20%20%20%20%22noWrap%22%3A%20false%2C%0A%20%20%20%20%20%20%20%20%22opacity%22%3A%201%2C%0A%20%20%20%20%20%20%20%20%22subdomains%22%3A%20%22abc%22%2C%0A%20%20%20%20%20%20%20%20%22tms%22%3A%20false%0A%7D%29.addTo%28feature_group_d1c25d9d22944b149114b2bbf4c97d6d%29%3B%0A%20%20%20%20var%20tile_layer_eaaa531449274ec8ae95cc60f3dbfb7c%20%3D%20L.tileLayer%28%0A%20%20%20%20%20%20%20%20%27https%3A//stamen-tiles-%7Bs%7D.a.ssl.fastly.net/toner-labels/%7Bz%7D/%7Bx%7D/%7By%7D%7Br%7D.png%27%2C%0A%20%20%20%20%20%20%20%20%7B%0A%20%20%20%20%20%20%20%20%22attribution%22%3A%20%22Map%20tiles%20by%20%3Ca%20href%3D%5C%22http%3A//stamen.com%5C%22%3EStamen%20Design%3C/a%3E%2C%20%3Ca%20href%3D%5C%22http%3A//creativecommons.org/licenses/by/3.0%5C%22%3ECC%20BY%203.0%3C/a%3E%20%26mdash%3B%20Map%20data%20%26copy%3B%20%3Ca%20href%3D%5C%22https%3A//www.openstreetmap.org/copyright%5C%22%3EOpenStreetMap%3C/a%3E%20contributors%22%2C%0A%20%20%20%20%20%20%20%20%22detectRetina%22%3A%20false%2C%0A%20%20%20%20%20%20%20%20%22maxNativeZoom%22%3A%2020%2C%0A%20%20%20%20%20%20%20%20%22maxZoom%22%3A%2020%2C%0A%20%20%20%20%20%20%20%20%22minZoom%22%3A%200%2C%0A%20%20%20%20%20%20%20%20%22noWrap%22%3A%20false%2C%0A%20%20%20%20%20%20%20%20%22opacity%22%3A%201%2C%0A%20%20%20%20%20%20%20%20%22subdomains%22%3A%20%22abcd%22%2C%0A%20%20%20%20%20%20%20%20%22tms%22%3A%20false%0A%7D%29.addTo%28feature_group_d1c25d9d22944b149114b2bbf4c97d6d%29%3B%0A%20%20%20%20var%20tile_layer_35609be61c4941db8a2fdafb3d87f682%20%3D%20L.tileLayer%28%0A%20%20%20%20%20%20%20%20%27https%3A//stamen-tiles-%7Bs%7D.a.ssl.fastly.net/toner-lines/%7Bz%7D/%7Bx%7D/%7By%7D%7Br%7D.png%27%2C%0A%20%20%20%20%20%20%20%20%7B%0A%20%20%20%20%20%20%20%20%22attribution%22%3A%20%22Map%20tiles%20by%20%3Ca%20href%3D%5C%22http%3A//stamen.com%5C%22%3EStamen%20Design%3C/a%3E%2C%20%3Ca%20href%3D%5C%22http%3A//creativecommons.org/licenses/by/3.0%5C%22%3ECC%20BY%203.0%3C/a%3E%20%26mdash%3B%20Map%20data%20%26copy%3B%20%3Ca%20href%3D%5C%22https%3A//www.openstreetmap.org/copyright%5C%22%3EOpenStreetMap%3C/a%3E%20contributors%22%2C%0A%20%20%20%20%20%20%20%20%22detectRetina%22%3A%20false%2C%0A%20%20%20%20%20%20%20%20%22maxNativeZoom%22%3A%2020%2C%0A%20%20%20%20%20%20%20%20%22maxZoom%22%3A%2020%2C%0A%20%20%20%20%20%20%20%20%22minZoom%22%3A%200%2C%0A%20%20%20%20%20%20%20%20%22noWrap%22%3A%20false%2C%0A%20%20%20%20%20%20%20%20%22opacity%22%3A%200.4%2C%0A%20%20%20%20%20%20%20%20%22subdomains%22%3A%20%22abcd%22%2C%0A%20%20%20%20%20%20%20%20%22tms%22%3A%20false%0A%7D%29.addTo%28feature_group_d1c25d9d22944b149114b2bbf4c97d6d%29%3B%0A%20%20%20%20%0A%20%20%20%20%20%20%20%20%20%20%20%20%20%20%20%20var%20poly_line_fbe97ff322bb4fed8a1361ac4251d116%20%3D%20L.polyline%28%0A%20%20%20%20%20%20%20%20%20%20%20%20%20%20%20%20%20%20%20%20%5B%5B36.085%2C%20-81.795%5D%2C%20%5B36.085%2C%20-81.545%5D%2C%20%5B36.335%2C%20-81.545%5D%2C%20%5B36.335%2C%20-81.795%5D%2C%20%5B36.085%2C%20-81.795%5D%5D%2C%0A%20%20%20%20%20%20%20%20%20%20%20%20%20%20%20%20%20%20%20%20%7B%0A%20%20%22bubblingMouseEvents%22%3A%20true%2C%0A%20%20%22color%22%3A%20%22red%22%2C%0A%20%20%22dashArray%22%3A%20null%2C%0A%20%20%22dashOffset%22%3A%20null%2C%0A%20%20%22fill%22%3A%20false%2C%0A%20%20%22fillColor%22%3A%20%22red%22%2C%0A%20%20%22fillOpacity%22%3A%200.2%2C%0A%20%20%22fillRule%22%3A%20%22evenodd%22%2C%0A%20%20%22lineCap%22%3A%20%22round%22%2C%0A%20%20%22lineJoin%22%3A%20%22round%22%2C%0A%20%20%22noClip%22%3A%20false%2C%0A%20%20%22opacity%22%3A%200.8%2C%0A%20%20%22smoothFactor%22%3A%201.0%2C%0A%20%20%22stroke%22%3A%20true%2C%0A%20%20%22weight%22%3A%203%0A%7D%0A%20%20%20%20%20%20%20%20%20%20%20%20%20%20%20%20%20%20%20%20%29%0A%20%20%20%20%20%20%20%20%20%20%20%20%20%20%20%20%20%20%20%20.addTo%28map_4135e048884b40abb851f0a2fd1f49a9%29%3B%0A%20%20%20%20%20%20%20%20%20%20%20%20%0A%20%20%20%20%0A%20%20%20%20%20%20%20%20%20%20%20%20%20%20%20%20var%20lat_lng_popup_91f372fcc9d34ac5b4fd9ea3cf6401a9%20%3D%20L.popup%28%29%3B%0A%20%20%20%20%20%20%20%20%20%20%20%20%20%20%20%20function%20latLngPop%28e%29%20%7B%0A%20%20%20%20%20%20%20%20%20%20%20%20%20%20%20%20%20%20%20%20lat_lng_popup_91f372fcc9d34ac5b4fd9ea3cf6401a9%0A%20%20%20%20%20%20%20%20%20%20%20%20%20%20%20%20%20%20%20%20%20%20%20%20.setLatLng%28e.latlng%29%0A%20%20%20%20%20%20%20%20%20%20%20%20%20%20%20%20%20%20%20%20%20%20%20%20.setContent%28%22Latitude%3A%20%22%20%2B%20e.latlng.lat.toFixed%284%29%20%2B%0A%20%20%20%20%20%20%20%20%20%20%20%20%20%20%20%20%20%20%20%20%20%20%20%20%20%20%20%20%20%20%20%20%20%20%20%20%22%3Cbr%3ELongitude%3A%20%22%20%2B%20e.latlng.lng.toFixed%284%29%29%0A%20%20%20%20%20%20%20%20%20%20%20%20%20%20%20%20%20%20%20%20%20%20%20%20.openOn%28map_4135e048884b40abb851f0a2fd1f49a9%29%3B%0A%20%20%20%20%20%20%20%20%20%20%20%20%20%20%20%20%20%20%20%20%7D%0A%20%20%20%20%20%20%20%20%20%20%20%20%20%20%20%20map_4135e048884b40abb851f0a2fd1f49a9.on%28%27click%27%2C%20latLngPop%29%3B%0A%20%20%20%20%20%20%20%20%20%20%20%20%0A%3C/script%3E onload=\"this.contentDocument.open();this.contentDocument.write(    decodeURIComponent(this.getAttribute('data-html')));this.contentDocument.close();\" allowfullscreen webkitallowfullscreen mozallowfullscreen></iframe></div></div>"
            ],
            "text/plain": [
              "<folium.folium.Map at 0x7f4a35fae1d0>"
            ]
          },
          "metadata": {},
          "execution_count": 24
        }
      ]
    },
    {
      "cell_type": "markdown",
      "metadata": {
        "id": "Exi1I-XWPUSV"
      },
      "source": [
        "## Load the data"
      ]
    },
    {
      "cell_type": "code",
      "metadata": {
        "id": "PTeWLcv0PUSW"
      },
      "source": [
        "# The loaded data is monthly mean radiance\n",
        "dataset = dc.load(product=product,latitude=latitude,longitude=longitude,time=time,measurements=['avg_rad'])"
      ],
      "execution_count": 25,
      "outputs": []
    },
    {
      "cell_type": "code",
      "metadata": {
        "colab": {
          "base_uri": "https://localhost:8080/",
          "height": 423
        },
        "id": "Av9fTkLZPUSW",
        "outputId": "eeef0616-3ab9-48d2-9c6e-1fe5c7d1b20e"
      },
      "source": [
        "# Plot the monthly time slice data in a table\n",
        "# If there are more than 10 values, only the beginning and end will be listed\n",
        "pd.DataFrame({'time': dataset.time.values})"
      ],
      "execution_count": 26,
      "outputs": [
        {
          "output_type": "execute_result",
          "data": {
            "text/html": [
              "<div>\n",
              "<style scoped>\n",
              "    .dataframe tbody tr th:only-of-type {\n",
              "        vertical-align: middle;\n",
              "    }\n",
              "\n",
              "    .dataframe tbody tr th {\n",
              "        vertical-align: top;\n",
              "    }\n",
              "\n",
              "    .dataframe thead th {\n",
              "        text-align: right;\n",
              "    }\n",
              "</style>\n",
              "<table border=\"1\" class=\"dataframe\">\n",
              "  <thead>\n",
              "    <tr style=\"text-align: right;\">\n",
              "      <th></th>\n",
              "      <th>time</th>\n",
              "    </tr>\n",
              "  </thead>\n",
              "  <tbody>\n",
              "    <tr>\n",
              "      <th>0</th>\n",
              "      <td>2012-04-01</td>\n",
              "    </tr>\n",
              "    <tr>\n",
              "      <th>1</th>\n",
              "      <td>2012-05-01</td>\n",
              "    </tr>\n",
              "    <tr>\n",
              "      <th>2</th>\n",
              "      <td>2012-06-01</td>\n",
              "    </tr>\n",
              "    <tr>\n",
              "      <th>3</th>\n",
              "      <td>2012-07-01</td>\n",
              "    </tr>\n",
              "    <tr>\n",
              "      <th>4</th>\n",
              "      <td>2012-08-01</td>\n",
              "    </tr>\n",
              "    <tr>\n",
              "      <th>...</th>\n",
              "      <td>...</td>\n",
              "    </tr>\n",
              "    <tr>\n",
              "      <th>100</th>\n",
              "      <td>2020-08-01</td>\n",
              "    </tr>\n",
              "    <tr>\n",
              "      <th>101</th>\n",
              "      <td>2020-09-01</td>\n",
              "    </tr>\n",
              "    <tr>\n",
              "      <th>102</th>\n",
              "      <td>2020-10-01</td>\n",
              "    </tr>\n",
              "    <tr>\n",
              "      <th>103</th>\n",
              "      <td>2020-11-01</td>\n",
              "    </tr>\n",
              "    <tr>\n",
              "      <th>104</th>\n",
              "      <td>2020-12-01</td>\n",
              "    </tr>\n",
              "  </tbody>\n",
              "</table>\n",
              "<p>105 rows × 1 columns</p>\n",
              "</div>"
            ],
            "text/plain": [
              "          time\n",
              "0   2012-04-01\n",
              "1   2012-05-01\n",
              "2   2012-06-01\n",
              "3   2012-07-01\n",
              "4   2012-08-01\n",
              "..         ...\n",
              "100 2020-08-01\n",
              "101 2020-09-01\n",
              "102 2020-10-01\n",
              "103 2020-11-01\n",
              "104 2020-12-01\n",
              "\n",
              "[105 rows x 1 columns]"
            ]
          },
          "metadata": {},
          "execution_count": 26
        }
      ]
    },
    {
      "cell_type": "markdown",
      "metadata": {
        "id": "hzAZQxYAPUSX"
      },
      "source": [
        "## View the Nighlight Radiance for a selected time slice"
      ]
    },
    {
      "cell_type": "code",
      "metadata": {
        "id": "Mtw8xupbPUSX"
      },
      "source": [
        "# MODIFY HERE\n",
        "\n",
        "# Select one of the time slices and create an output image. \n",
        "# Time slices are numbered from 0 to x and shown in the table above\n",
        "\n",
        "slice = 10  # select the time slice number here"
      ],
      "execution_count": 31,
      "outputs": []
    },
    {
      "cell_type": "code",
      "metadata": {
        "colab": {
          "base_uri": "https://localhost:8080/",
          "height": 731
        },
        "id": "p7ynoocLPUSX",
        "outputId": "75385ae1-0c17-4378-e638-3523c3def694"
      },
      "source": [
        "# Plot the mean radiance for a given time slice\n",
        "# Adjust the MIN and MAX range for the data to enhance colors\n",
        "# Adjust the size to fill the plotting window\n",
        "\n",
        "dataset.isel(time=slice).avg_rad.plot.imshow(cmap=plt.cm.nipy_spectral, vmin=0, vmax=120, size=12,\n",
        "                                                      aspect=dataset.dims['longitude']/dataset.dims['latitude']);"
      ],
      "execution_count": 35,
      "outputs": [
        {
          "output_type": "display_data",
          "data": {
            "image/png": "[encoded data removed]",
            "text/plain": [
              "<Figure size 864x864 with 2 Axes>"
            ]
          },
          "metadata": {
            "needs_background": "light"
          }
        }
      ]
    },
    {
      "cell_type": "code",
      "metadata": {
        "colab": {
          "base_uri": "https://localhost:8080/",
          "height": 318
        },
        "id": "67ucznFyPUSX",
        "outputId": "f5278e36-c2c2-4437-91cb-a12255039126"
      },
      "source": [
        "# Plot mean monthly radiance\n",
        "\n",
        "# Some data may show \"zero\" radiance which means there are no datasets\n",
        "# Some data may be skewed high or low due to cloud contamination of part of the scene\n",
        "\n",
        "img = dataset['avg_rad'].mean(dim=['longitude','latitude']).plot(figsize=(12,4)\n",
        "                                                                      ,marker='o',markersize=6,linewidth=1)\n",
        "img[0].axes.set_title(\"Monthly Mean Average Radiance\");"
      ],
      "execution_count": 30,
      "outputs": [
        {
          "output_type": "display_data",
          "data": {
            "image/png": "[encoded data removed]",
            "text/plain": [
              "<Figure size 864x288 with 1 Axes>"
            ]
          },
          "metadata": {
            "needs_background": "light"
          }
        }
      ]
    }
  ]
}